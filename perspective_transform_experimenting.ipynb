{
 "cells": [
  {
   "cell_type": "code",
   "execution_count": 14,
   "id": "1d2f058d-e938-4367-b67e-63da6a73690a",
   "metadata": {},
   "outputs": [
    {
     "name": "stdout",
     "output_type": "stream",
     "text": [
      "Defaulting to user installation because normal site-packages is not writeable\n",
      "Requirement already satisfied: PyQt5 in /home/andi/.local/lib/python3.9/site-packages (5.15.7)\n",
      "Requirement already satisfied: PyQt5-sip<13,>=12.11 in /home/andi/.local/lib/python3.9/site-packages (from PyQt5) (12.11.0)\n",
      "Requirement already satisfied: PyQt5-Qt5>=5.15.0 in /home/andi/.local/lib/python3.9/site-packages (from PyQt5) (5.15.2)\n"
     ]
    }
   ],
   "source": [
    "!pip3 install PyQt5"
   ]
  },
  {
   "cell_type": "code",
   "execution_count": 2,
   "id": "89178a4f-efff-4eee-a770-49ada11eea56",
   "metadata": {},
   "outputs": [],
   "source": [
    "import cv2\n",
    "import numpy as np\n",
    "import matplotlib.pyplot as plt"
   ]
  },
  {
   "cell_type": "code",
   "execution_count": 3,
   "id": "ceed252f-3c62-44fe-8c70-1ad6467b07a2",
   "metadata": {},
   "outputs": [
    {
     "name": "stdout",
     "output_type": "stream",
     "text": [
      "59 655\n",
      "1004 93\n",
      "2682 101\n",
      "3557 657\n"
     ]
    }
   ],
   "source": [
    "# To open matplotlib in interactive mode\n",
    "# %matplotlib qt5\n",
    " \n",
    "# Load the image\n",
    "img = cv2.imread('reference_img.jpg') \n",
    "\n",
    "def mouse_click(event,x,y,flags,param):\n",
    "    if event == cv2.EVENT_LBUTTONDOWN:\n",
    "        print(x, y)\n",
    "\n",
    "clone = img.copy()\n",
    "cv2.namedWindow(\"image\")\n",
    "cv2.setMouseCallback(\"image\", mouse_click)\n",
    "# keep looping until the 'q' key is pressed\n",
    "while True:\n",
    "\t# display the image and wait for a keypress\n",
    "\tcv2.imshow(\"image\", img)\n",
    "\tkey = cv2.waitKey(1) & 0xFF\n",
    "\t# if the 'c' key is pressed, break from the loop\n",
    "\tif key == ord(\"q\"):\n",
    "\t\tbreak\n",
    "# close all open windows\n",
    "cv2.destroyAllWindows()"
   ]
  },
  {
   "cell_type": "code",
   "execution_count": 5,
   "id": "41b752fd-532c-4196-8060-827af8380b28",
   "metadata": {},
   "outputs": [],
   "source": [
    "# All points are in format [cols, rows]\n",
    "pt_A = [4, 93]\n",
    "pt_B = [1642, 103]\n",
    "pt_C = [1901, 961]\n",
    "pt_D = [2, 982]"
   ]
  },
  {
   "cell_type": "code",
   "execution_count": 6,
   "id": "47e4b0e4-9fd6-4cd5-8681-200446a56eef",
   "metadata": {},
   "outputs": [],
   "source": [
    "# Here, I have used L2 norm. You can use L1 also.\n",
    "width_AD = np.sqrt(((pt_A[0] - pt_D[0]) ** 2) + ((pt_A[1] - pt_D[1]) ** 2))\n",
    "width_BC = np.sqrt(((pt_B[0] - pt_C[0]) ** 2) + ((pt_B[1] - pt_C[1]) ** 2))\n",
    "maxWidth = max(int(width_AD), int(width_BC))\n",
    "\n",
    "\n",
    "height_AB = np.sqrt(((pt_A[0] - pt_B[0]) ** 2) + ((pt_A[1] - pt_B[1]) ** 2))\n",
    "height_CD = np.sqrt(((pt_C[0] - pt_D[0]) ** 2) + ((pt_C[1] - pt_D[1]) ** 2))\n",
    "maxHeight = max(int(height_AB), int(height_CD))"
   ]
  },
  {
   "cell_type": "code",
   "execution_count": 7,
   "id": "32b1de02-4c03-422a-85d2-ee584cb5b5ae",
   "metadata": {},
   "outputs": [],
   "source": [
    "# input_pts = np.float32([pt_A, pt_B, pt_C, pt_D])\n",
    "input_pts = np.float32([ [1, 47], [878, 54], [1019, 544],[1, 546]])\n",
    "# output_pts = np.float32([[0, 0], [0, maxHeight - 1], [maxWidth - 1, maxHeight - 1], [maxWidth - 1, 0]])\n",
    "output_pts = np.float32([\n",
    "        [871, 37], # Upper left\n",
    "        [1490, 39], # Upper right\n",
    "        [1458, 959], # Lower right\n",
    "        [1061, 955]]) # Lower left"
   ]
  },
  {
   "cell_type": "code",
   "execution_count": 8,
   "id": "a73bbfc4-815b-43de-8cf9-c0b1acd4dfc7",
   "metadata": {},
   "outputs": [],
   "source": [
    "# Compute the perspective transform M\n",
    "M = cv2.getPerspectiveTransform(input_pts,output_pts)"
   ]
  },
  {
   "cell_type": "code",
   "execution_count": null,
   "id": "87fcd871-240f-4a78-812d-06fdf7eeee4a",
   "metadata": {},
   "outputs": [],
   "source": [
    "out = cv2.warpPerspective(img,M, (1920, 1080),flags=cv2.INTER_LINEAR)\n",
    "while True:\n",
    "\t# display the image and wait for a keypress\n",
    "\tcv2.imshow(\"warped\", out)\n",
    "\tkey = cv2.waitKey(1) & 0xFF\n",
    "\t# if the 'c' key is pressed, break from the loop\n",
    "\tif key == ord(\"c\"):\n",
    "\t\tbreak\n",
    "cv2.destroyAllWindows()"
   ]
  },
  {
   "cell_type": "code",
   "execution_count": null,
   "id": "9b9d9907-a8b1-4785-b1ac-83798f23c8b1",
   "metadata": {},
   "outputs": [],
   "source": []
  },
  {
   "cell_type": "code",
   "execution_count": null,
   "id": "56fa9e79-6fb1-474b-926e-5459f7bc8551",
   "metadata": {},
   "outputs": [],
   "source": []
  }
 ],
 "metadata": {
  "kernelspec": {
   "display_name": "Python 3.9 (player_tracking)",
   "language": "python",
   "name": "player_tracking"
  },
  "language_info": {
   "codemirror_mode": {
    "name": "ipython",
    "version": 3
   },
   "file_extension": ".py",
   "mimetype": "text/x-python",
   "name": "python",
   "nbconvert_exporter": "python",
   "pygments_lexer": "ipython3",
   "version": "3.10.6"
  }
 },
 "nbformat": 4,
 "nbformat_minor": 5
}
