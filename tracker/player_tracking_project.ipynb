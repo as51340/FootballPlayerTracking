{
 "cells": [
  {
   "cell_type": "markdown",
   "id": "c6659048-eb82-4303-a4c5-ab8ccb43bc40",
   "metadata": {},
   "source": [
    "## Simple testing on videos found on the web + team classification."
   ]
  },
  {
   "cell_type": "code",
   "execution_count": null,
   "id": "364dbaed-9e40-4df3-a5ad-a028558ffbdd",
   "metadata": {},
   "outputs": [],
   "source": [
    "!python3 track_football.py --source ../data/demo_cut.mp4 \\\n",
    "--referee-color red --team1-color white --team2-color blue --max-frames 15 \\\n",
    "--classes 0 32 --save-vid --show-vid --save-txt --save-crop"
   ]
  },
  {
   "cell_type": "markdown",
   "id": "95f54fbc-3b5e-469c-84c0-a7846cae48d0",
   "metadata": {},
   "source": [
    "## Now let's try to track on videos from the Croatian league."
   ]
  },
  {
   "cell_type": "code",
   "execution_count": null,
   "id": "54ae97a7-f056-4340-a8c3-d841fa73f23c",
   "metadata": {},
   "outputs": [],
   "source": [
    "!python3 track_football.py --source ../data/t4.mp4 --max-frames 100 --classes 0 32 --show-vid"
   ]
  },
  {
   "cell_type": "markdown",
   "id": "2adcfdc0-300f-4179-87ac-3af3d434e358",
   "metadata": {},
   "source": [
    "## Validation experimenting"
   ]
  },
  {
   "cell_type": "code",
   "execution_count": null,
   "id": "cf57f78d-1bac-4310-9a82-4b4639000cc1",
   "metadata": {},
   "outputs": [],
   "source": [
    "!python3 val_football.py"
   ]
  },
  {
   "cell_type": "code",
   "execution_count": null,
   "id": "7ef8f47b-7f06-4e16-80d3-503d0dc6a004",
   "metadata": {},
   "outputs": [],
   "source": []
  }
 ],
 "metadata": {
  "kernelspec": {
   "display_name": "Python 3.9 (player_tracking)",
   "language": "python",
   "name": "player_tracking"
  },
  "language_info": {
   "codemirror_mode": {
    "name": "ipython",
    "version": 3
   },
   "file_extension": ".py",
   "mimetype": "text/x-python",
   "name": "python",
   "nbconvert_exporter": "python",
   "pygments_lexer": "ipython3",
   "version": "3.10.6"
  }
 },
 "nbformat": 4,
 "nbformat_minor": 5
}
